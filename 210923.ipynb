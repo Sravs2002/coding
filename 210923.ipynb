{
  "nbformat": 4,
  "nbformat_minor": 0,
  "metadata": {
    "colab": {
      "provenance": [],
      "authorship_tag": "ABX9TyMfuSYpsCi4UEwm9Bii5p0/",
      "include_colab_link": true
    },
    "kernelspec": {
      "name": "python3",
      "display_name": "Python 3"
    },
    "language_info": {
      "name": "python"
    }
  },
  "cells": [
    {
      "cell_type": "markdown",
      "metadata": {
        "id": "view-in-github",
        "colab_type": "text"
      },
      "source": [
        "<a href=\"https://colab.research.google.com/github/Sravs2002/coding/blob/master/210923.ipynb\" target=\"_parent\"><img src=\"https://colab.research.google.com/assets/colab-badge.svg\" alt=\"Open In Colab\"/></a>"
      ]
    },
    {
      "cell_type": "code",
      "execution_count": 13,
      "metadata": {
        "colab": {
          "base_uri": "https://localhost:8080/"
        },
        "id": "_72gqycpyw4m",
        "outputId": "27a82afd-0438-4c07-8892-94ce4f95745b"
      },
      "outputs": [
        {
          "output_type": "stream",
          "name": "stdout",
          "text": [
            "G\n",
            "2\n"
          ]
        }
      ],
      "source": [
        "n=input().capitalize()\n",
        "s=\"Good Morning\"\n",
        "s=s.upper()\n",
        "if n in s:\n",
        "  print(s.count(n))\n",
        "else:\n",
        "  print(\"0\")\n",
        "\n"
      ]
    },
    {
      "cell_type": "code",
      "source": [
        "class Student:\n",
        "  def __init__(self,name,rollno,marks):\n",
        "    self.name=name\n",
        "    self.rollno=rollno\n",
        "    self.marks=marks\n",
        "\n",
        "   def talk(self):\n",
        "       print(\"t:\",self.name)\n",
        "       print(\"t:\",self.rollno)\n",
        "       print(\"t:\",self.marks)\n",
        "\n",
        "s1=Student(\"sravanthi\",448,95)\n",
        "s1.talk()\n"
      ],
      "metadata": {
        "colab": {
          "base_uri": "https://localhost:8080/"
        },
        "id": "0FmH7KQq4_ux",
        "outputId": "7f4e6891-88dc-4b51-ab24-fa25b55293fd"
      },
      "execution_count": 26,
      "outputs": [
        {
          "output_type": "stream",
          "name": "stdout",
          "text": [
            "t: sravanthi\n",
            "t: 448\n",
            "t: 95\n"
          ]
        }
      ]
    },
    {
      "cell_type": "code",
      "source": [
        "class Test:\n",
        "  def __init__(self):\n",
        "    print(\"sravanthi\")\n",
        "  def s1(self):\n",
        "    print(\"448\")\n",
        "t1=Test()\n",
        "t2=Test()\n",
        "t1.s1()"
      ],
      "metadata": {
        "colab": {
          "base_uri": "https://localhost:8080/"
        },
        "id": "MUb3NY058TzB",
        "outputId": "f2ec3f5f-398d-4268-f00b-7e986b7953cb"
      },
      "execution_count": 29,
      "outputs": [
        {
          "output_type": "stream",
          "name": "stdout",
          "text": [
            "sravanthi\n",
            "sravanthi\n",
            "448\n"
          ]
        }
      ]
    },
    {
      "cell_type": "code",
      "source": [
        "class Student:\n",
        "  def __init__(self):\n",
        "    self.nitya=21\n",
        "    self.vineela=21\n",
        "\n",
        "  def talk(self):\n",
        "    self.likitha=21\n",
        "t=Student()\n",
        "t.talk()\n",
        "t.sravanthi=21\n",
        "print(t.__dict__)"
      ],
      "metadata": {
        "colab": {
          "base_uri": "https://localhost:8080/"
        },
        "id": "mzQI7Nbe9irt",
        "outputId": "2f2b6a4f-282f-48bc-f9e3-ae53a8b2bf2e"
      },
      "execution_count": 34,
      "outputs": [
        {
          "output_type": "stream",
          "name": "stdout",
          "text": [
            "{'nitya': 21, 'vineela': 21, 'likitha': 21, 'sravanthi': 21}\n"
          ]
        }
      ]
    },
    {
      "cell_type": "code",
      "source": [
        "class Student:\n",
        "  def __init__(self):\n",
        "    self.a=10\n",
        "    self.b=20\n",
        "  def m1(self):\n",
        "    print(self.a)\n",
        "    print(self.b)\n",
        "t=Student()\n",
        "t.m1()\n",
        "print(t.a,t.b)\n"
      ],
      "metadata": {
        "colab": {
          "base_uri": "https://localhost:8080/"
        },
        "id": "VQr6SIjw-8f7",
        "outputId": "280f879e-4869-4f76-9c1d-5889218ef01a"
      },
      "execution_count": 43,
      "outputs": [
        {
          "output_type": "stream",
          "name": "stdout",
          "text": [
            "10\n",
            "20\n",
            "10 20\n"
          ]
        }
      ]
    }
  ]
}