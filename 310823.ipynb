{
  "nbformat": 4,
  "nbformat_minor": 0,
  "metadata": {
    "colab": {
      "provenance": [],
      "authorship_tag": "ABX9TyOum2if2kOKSsgxRWTqgB76",
      "include_colab_link": true
    },
    "kernelspec": {
      "name": "python3",
      "display_name": "Python 3"
    },
    "language_info": {
      "name": "python"
    }
  },
  "cells": [
    {
      "cell_type": "markdown",
      "metadata": {
        "id": "view-in-github",
        "colab_type": "text"
      },
      "source": [
        "<a href=\"https://colab.research.google.com/github/Sravs2002/coding/blob/master/310823.ipynb\" target=\"_parent\"><img src=\"https://colab.research.google.com/assets/colab-badge.svg\" alt=\"Open In Colab\"/></a>"
      ]
    },
    {
      "cell_type": "code",
      "execution_count": 1,
      "metadata": {
        "colab": {
          "base_uri": "https://localhost:8080/"
        },
        "id": "6SKV1E4zyaMN",
        "outputId": "c48e4a7b-bb04-4d87-eb8d-f61614c38885"
      },
      "outputs": [
        {
          "output_type": "stream",
          "name": "stdout",
          "text": [
            "2004\n",
            "True\n"
          ]
        }
      ],
      "source": [
        "def is_leap(year):\n",
        "    if (year % 4 == 0 and year % 100 != 0) or (year % 400 == 0):\n",
        "        return True\n",
        "    else:\n",
        "        return False\n",
        "\n",
        "year = int(input())\n",
        "print(is_leap(year))"
      ]
    },
    {
      "cell_type": "code",
      "source": [
        "a=20\n",
        "b=15\n",
        "L1=[]\n",
        "L2=[]\n",
        "for i in range (1,a+1):\n",
        "  if a%i==0:\n",
        "    L1.append(i)\n",
        "for i in range (1,b+1):\n",
        "  if b%i==0:\n",
        "    L2.append(i)\n",
        "  L3=[]\n",
        "for i in L1:\n",
        "  if i in L2:\n",
        "\n",
        "    L3.append(i)\n",
        "\n",
        "print(max(L3))\n",
        "k=max(L3)\n",
        "print(a*b/k)"
      ],
      "metadata": {
        "colab": {
          "base_uri": "https://localhost:8080/"
        },
        "id": "N0RGH7E-Ajww",
        "outputId": "68275bce-e5da-4930-d42e-c2adc39ed573"
      },
      "execution_count": 14,
      "outputs": [
        {
          "output_type": "stream",
          "name": "stdout",
          "text": [
            "5\n",
            "60.0\n"
          ]
        }
      ]
    },
    {
      "cell_type": "code",
      "source": [
        "def trail(n):\n",
        "  n1=str(n)\n",
        "  n1=n1[::-1]\n",
        "  c=0\n",
        "  for i in n1:\n",
        "    if(i==\"0\"):\n",
        "      c+=1\n",
        "    else:\n",
        "      break\n",
        "  print(c)\n",
        "trail(802400)\n",
        "\n"
      ],
      "metadata": {
        "colab": {
          "base_uri": "https://localhost:8080/"
        },
        "id": "62yv9caaBu4A",
        "outputId": "90303c73-4ef9-4a58-826b-512783069e12"
      },
      "execution_count": 20,
      "outputs": [
        {
          "output_type": "stream",
          "name": "stdout",
          "text": [
            "2\n"
          ]
        }
      ]
    }
  ]
}