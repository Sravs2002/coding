{
  "nbformat": 4,
  "nbformat_minor": 0,
  "metadata": {
    "colab": {
      "provenance": [],
      "authorship_tag": "ABX9TyOnvOksFe0qlkfpzpsdk7ra"
    },
    "kernelspec": {
      "name": "python3",
      "display_name": "Python 3"
    },
    "language_info": {
      "name": "python"
    }
  },
  "cells": [
    {
      "cell_type": "code",
      "execution_count": 7,
      "metadata": {
        "colab": {
          "base_uri": "https://localhost:8080/"
        },
        "id": "HPHpYG_xu9rp",
        "outputId": "cd97727b-d5c2-4be7-8e0c-370e6e6285be"
      },
      "outputs": [
        {
          "output_type": "stream",
          "name": "stdout",
          "text": [
            "[1, 4, 2, 8, 0, 0, 0]\n"
          ]
        }
      ],
      "source": [
        "'i/p=[1,0,4,2,0,8,0]''o/p=[1,4,2,8,0,0,0]'\n",
        "n=[1,0,4,2,0,8,0]\n",
        "n1=[]\n",
        "n2=[]\n",
        "for i in n:\n",
        "  if i==0:\n",
        "    n1.append(i)\n",
        "  else:\n",
        "    n2.append(i)\n",
        "print(n2+n1)\n",
        "\n"
      ]
    }
  ]
}