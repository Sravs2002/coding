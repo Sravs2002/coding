{
  "cells": [
    {
      "cell_type": "markdown",
      "metadata": {
        "id": "view-in-github",
        "colab_type": "text"
      },
      "source": [
        "<a href=\"https://colab.research.google.com/github/Sravs2002/coding/blob/master/040923.ipynb\" target=\"_parent\"><img src=\"https://colab.research.google.com/assets/colab-badge.svg\" alt=\"Open In Colab\"/></a>"
      ]
    },
    {
      "cell_type": "code",
      "execution_count": null,
      "metadata": {
        "colab": {
          "base_uri": "https://localhost:8080/"
        },
        "id": "4FQ--2RASX_-",
        "outputId": "0fe637a6-98c7-4a77-a779-0d958af4d4f9"
      },
      "outputs": [
        {
          "name": "stdout",
          "output_type": "stream",
          "text": [
            "153\n",
            "amstrong number\n"
          ]
        }
      ],
      "source": [
        "n=int(input())\n",
        "t=n\n",
        "s=len(str(n))\n",
        "sum=0\n",
        "while n!=0:\n",
        "  r=n%10\n",
        "  sum=sum+r**s\n",
        "  n=n//10\n",
        "if sum==t:\n",
        "  print(\"amstrong number\")\n",
        "else:\n",
        "  print(\"not amstrong number\")"
      ]
    },
    {
      "cell_type": "code",
      "execution_count": null,
      "metadata": {
        "colab": {
          "base_uri": "https://localhost:8080/"
        },
        "id": "9EQpNOPST0OA",
        "outputId": "d5df7e48-9a8a-478d-83ca-df4f66ea312f"
      },
      "outputs": [
        {
          "name": "stdout",
          "output_type": "stream",
          "text": [
            "25\n",
            "not harshad number\n"
          ]
        }
      ],
      "source": [
        "n=int(input())\n",
        "t=n\n",
        "sum=0\n",
        "while n!=0:\n",
        "  r=n%10\n",
        "  sum=sum+r\n",
        "  n=n//10\n",
        "if t%sum==0:\n",
        "    print(\"harshad number\")\n",
        "else:\n",
        "    print(\"not harshad number\")\n"
      ]
    },
    {
      "cell_type": "code",
      "execution_count": 4,
      "metadata": {
        "colab": {
          "base_uri": "https://localhost:8080/"
        },
        "id": "4iUg0bn6XZrW",
        "outputId": "ababf46b-e679-4161-c5b7-c4986ce35bf5"
      },
      "outputs": [
        {
          "output_type": "stream",
          "name": "stdout",
          "text": [
            "12\n",
            "abandunt number\n"
          ]
        }
      ],
      "source": [
        "n=int(input())\n",
        "f=1\n",
        "sum=0\n",
        "for i in range(1,n):\n",
        "  if n%i==0:\n",
        "    sum=sum+n\n",
        "if sum>n:\n",
        "  print(\"abandunt number\")\n",
        "else:\n",
        "  print(\"not abundant number\")"
      ]
    }
  ],
  "metadata": {
    "colab": {
      "provenance": [],
      "authorship_tag": "ABX9TyO7X+KFmA/7DhTxAlM9mSpx",
      "include_colab_link": true
    },
    "kernelspec": {
      "display_name": "Python 3",
      "name": "python3"
    },
    "language_info": {
      "name": "python"
    }
  },
  "nbformat": 4,
  "nbformat_minor": 0
}