{
  "nbformat": 4,
  "nbformat_minor": 0,
  "metadata": {
    "colab": {
      "provenance": [],
      "authorship_tag": "ABX9TyN3AsK5Ch0HLsaQ9P2eoR1t",
      "include_colab_link": true
    },
    "kernelspec": {
      "name": "python3",
      "display_name": "Python 3"
    },
    "language_info": {
      "name": "python"
    }
  },
  "cells": [
    {
      "cell_type": "markdown",
      "metadata": {
        "id": "view-in-github",
        "colab_type": "text"
      },
      "source": [
        "<a href=\"https://colab.research.google.com/github/Sravs2002/coding/blob/master/280923.ipynb\" target=\"_parent\"><img src=\"https://colab.research.google.com/assets/colab-badge.svg\" alt=\"Open In Colab\"/></a>"
      ]
    },
    {
      "cell_type": "code",
      "execution_count": null,
      "metadata": {
        "colab": {
          "base_uri": "https://localhost:8080/"
        },
        "id": "UCklwuzdoODK",
        "outputId": "84214a35-2287-4d30-e7ac-0588ba29e9a3"
      },
      "outputs": [
        {
          "output_type": "stream",
          "name": "stdout",
          "text": [
            "rvs\n"
          ]
        }
      ],
      "source": [
        "s=['s','v','r']\n",
        "def pop():\n",
        "  k=\"\"\n",
        "  for i in range(len(s)):\n",
        "    p=s.pop()\n",
        "    k+=p\n",
        "  print(k)\n",
        "pop()\n",
        "\n",
        "\n"
      ]
    },
    {
      "cell_type": "code",
      "source": [
        "stack=[]\n",
        "def push():\n",
        "   e=input(\"enter a element:\")\n",
        "   stack.append(e)\n",
        "   print(stack)\n",
        "def pop():\n",
        "  if not stack:\n",
        "    print(\"stack is empty\")\n",
        "  else:\n",
        "    e=stack.pop()\n",
        "    print(\"removed element\",e)\n",
        "    print(stack)\n",
        "while True:\n",
        "  print(\"enter choice 1.push,2.pop3.exit\")\n",
        "  choice=int(input())\n",
        "  if choice==1:\n",
        "    push()\n",
        "  elif choice==2:\n",
        "    pop()\n",
        "  elif choice==3:\n",
        "    break\n",
        "  else:\n",
        "    print(\"enter the correct operation\")"
      ],
      "metadata": {
        "id": "h3rcMODrpgqP",
        "colab": {
          "base_uri": "https://localhost:8080/"
        },
        "outputId": "099a6715-9c74-43e4-e357-99af7fc9a1b1"
      },
      "execution_count": 3,
      "outputs": [
        {
          "name": "stdout",
          "output_type": "stream",
          "text": [
            "enter choice 1.push,2.pop3.exit\n",
            "1\n",
            "enter a element:10\n",
            "['10']\n",
            "enter choice 1.push,2.pop3.exit\n",
            "1\n",
            "enter a element:20\n",
            "['10', '20']\n",
            "enter choice 1.push,2.pop3.exit\n",
            "1\n",
            "enter a element:30\n",
            "['10', '20', '30']\n",
            "enter choice 1.push,2.pop3.exit\n",
            "2\n",
            "removed element 30\n",
            "['10', '20']\n",
            "enter choice 1.push,2.pop3.exit\n",
            "3\n"
          ]
        }
      ]
    }
  ]
}