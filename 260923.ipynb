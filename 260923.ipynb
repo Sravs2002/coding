{
  "nbformat": 4,
  "nbformat_minor": 0,
  "metadata": {
    "colab": {
      "provenance": [],
      "authorship_tag": "ABX9TyNvVkbJn83kR+XJGveykqUQ",
      "include_colab_link": true
    },
    "kernelspec": {
      "name": "python3",
      "display_name": "Python 3"
    },
    "language_info": {
      "name": "python"
    }
  },
  "cells": [
    {
      "cell_type": "markdown",
      "metadata": {
        "id": "view-in-github",
        "colab_type": "text"
      },
      "source": [
        "<a href=\"https://colab.research.google.com/github/Sravs2002/coding/blob/master/260923.ipynb\" target=\"_parent\"><img src=\"https://colab.research.google.com/assets/colab-badge.svg\" alt=\"Open In Colab\"/></a>"
      ]
    },
    {
      "cell_type": "code",
      "execution_count": 5,
      "metadata": {
        "colab": {
          "base_uri": "https://localhost:8080/"
        },
        "id": "oVMLVM3UtYPt",
        "outputId": "1736e974-1b0e-44cb-82d9-3f55c5adba5d"
      },
      "outputs": [
        {
          "output_type": "stream",
          "name": "stdout",
          "text": [
            "3\n"
          ]
        }
      ],
      "source": [
        "n=[7,4,8,2,9]\n",
        "c=0\n",
        "temp=n[0]\n",
        "for i in n:\n",
        "  if i>=temp:\n",
        "    c+=1\n",
        "print(c)\n"
      ]
    },
    {
      "cell_type": "code",
      "source": [
        "n=\"sravanthi\"\n",
        "s=\"\"\n",
        "for i in n:\n",
        "  if n.index(i)%2!=0:\n",
        "    s+=i.upper()\n",
        "  else:\n",
        "    s+=i.lower()\n",
        "print(s)\n"
      ],
      "metadata": {
        "colab": {
          "base_uri": "https://localhost:8080/"
        },
        "id": "WCt7qpLFu9yr",
        "outputId": "ed19161c-e529-44a9-bdfd-481f15a3554c"
      },
      "execution_count": 7,
      "outputs": [
        {
          "output_type": "stream",
          "name": "stdout",
          "text": [
            "sRaVaNtHi\n"
          ]
        }
      ]
    },
    {
      "cell_type": "code",
      "source": [
        "n=\"srAvanthi\"\n",
        "s=\"\"\n",
        "for i in n:\n",
        "  if n.index(i)%2!=0:\n",
        "    s+=i.lower()\n",
        "  else:\n",
        "    s+=str(ord(i))\n",
        "print(s)"
      ],
      "metadata": {
        "colab": {
          "base_uri": "https://localhost:8080/"
        },
        "id": "WzF493yUwLpd",
        "outputId": "227e7c7f-8c9c-403d-bcec-92646cd4815b"
      },
      "execution_count": 10,
      "outputs": [
        {
          "output_type": "stream",
          "name": "stdout",
          "text": [
            "115r65v97n116h105\n"
          ]
        }
      ]
    }
  ]
}