{
  "nbformat": 4,
  "nbformat_minor": 0,
  "metadata": {
    "colab": {
      "provenance": [],
      "authorship_tag": "ABX9TyOH+8ceXhMlTNPErTo3Gowc"
    },
    "kernelspec": {
      "name": "python3",
      "display_name": "Python 3"
    },
    "language_info": {
      "name": "python"
    }
  },
  "cells": [
    {
      "cell_type": "code",
      "execution_count": 7,
      "metadata": {
        "colab": {
          "base_uri": "https://localhost:8080/"
        },
        "id": "W6pzd--iqwDa",
        "outputId": "2dbfe646-7653-45b2-961a-4bf54d8fe00b"
      },
      "outputs": [
        {
          "output_type": "stream",
          "name": "stdout",
          "text": [
            "movie to went I\n"
          ]
        }
      ],
      "source": [
        "s=\"I went to movie\".split()\n",
        "n=\"\"\n",
        "for i in s[ ::-1]:\n",
        "  n+=i+\" \"\n",
        "st=n[ :-1]\n",
        "print(st)\n"
      ]
    },
    {
      "cell_type": "code",
      "source": [
        "n=int(input())\n",
        "for i in range (n):\n",
        "  print(2**i)"
      ],
      "metadata": {
        "colab": {
          "base_uri": "https://localhost:8080/"
        },
        "id": "ONsxmVPQs6hV",
        "outputId": "d5cc47c6-a3de-4851-9648-bc08e792dd2f"
      },
      "execution_count": 16,
      "outputs": [
        {
          "output_type": "stream",
          "name": "stdout",
          "text": [
            "8\n",
            "1\n",
            "2\n",
            "4\n",
            "8\n",
            "16\n",
            "32\n",
            "64\n",
            "128\n"
          ]
        }
      ]
    },
    {
      "cell_type": "code",
      "source": [],
      "metadata": {
        "id": "6EbEHXmguEj-"
      },
      "execution_count": null,
      "outputs": []
    }
  ]
}