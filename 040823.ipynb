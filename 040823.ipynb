{
  "nbformat": 4,
  "nbformat_minor": 0,
  "metadata": {
    "colab": {
      "provenance": [],
      "authorship_tag": "ABX9TyOPdyY+C92p/9fD1/JOl3WU"
    },
    "kernelspec": {
      "name": "python3",
      "display_name": "Python 3"
    },
    "language_info": {
      "name": "python"
    }
  },
  "cells": [
    {
      "cell_type": "code",
      "execution_count": 7,
      "metadata": {
        "colab": {
          "base_uri": "https://localhost:8080/"
        },
        "id": "HPHpYG_xu9rp",
        "outputId": "cd97727b-d5c2-4be7-8e0c-370e6e6285be"
      },
      "outputs": [
        {
          "output_type": "stream",
          "name": "stdout",
          "text": [
            "[1, 4, 2, 8, 0, 0, 0]\n"
          ]
        }
      ],
      "source": [
        "'i/p=[1,0,4,2,0,8,0]''o/p=[1,4,2,8,0,0,0]'\n",
        "n=[1,0,4,2,0,8,0]\n",
        "n1=[]\n",
        "n2=[]\n",
        "for i in n:\n",
        "  if i==0:\n",
        "    n1.append(i)\n",
        "  else:\n",
        "    n2.append(i)\n",
        "print(n2+n1)\n",
        "\n"
      ]
    },
    {
      "cell_type": "code",
      "source": [
        "'i/p=[1,5,6,0,2]''o/p=[1,5,0,6,2]'\n",
        "n=[1,5,6,0,2]\n",
        "n1=[]\n",
        "n2=[]\n",
        "for i in n:\n",
        "  if i==0:\n",
        "    n1.append(i)\n",
        "  else:\n",
        "    n2.append(i)\n",
        "k=int(len(n2)/2)\n",
        "p=n2[ :k]\n",
        "p1=n2[k: ]\n",
        "print(p+n1+p1)"
      ],
      "metadata": {
        "colab": {
          "base_uri": "https://localhost:8080/"
        },
        "id": "Uy3HjlHFxVgt",
        "outputId": "aa7c4311-ad18-4bfc-fac1-06ca88214248"
      },
      "execution_count": 11,
      "outputs": [
        {
          "output_type": "stream",
          "name": "stdout",
          "text": [
            "[1, 5, 0, 6, 2]\n"
          ]
        }
      ]
    },
    {
      "cell_type": "code",
      "source": [
        "n=int(input())\n",
        "if n%2==0:\n",
        "   if n>6 and n<=20:\n",
        "     print(\"wierd\")\n",
        "   else:\n",
        "    print(\"not wierd\")\n",
        "else:\n",
        "  print(\"wierd\")"
      ],
      "metadata": {
        "colab": {
          "base_uri": "https://localhost:8080/"
        },
        "id": "WTR3kKkZy4Ub",
        "outputId": "7ec00fd7-8206-4937-8e18-73aacf12fe57"
      },
      "execution_count": 19,
      "outputs": [
        {
          "output_type": "stream",
          "name": "stdout",
          "text": [
            "4\n",
            "not wierd\n"
          ]
        }
      ]
    }
  ]
}