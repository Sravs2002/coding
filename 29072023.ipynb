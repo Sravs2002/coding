{
  "nbformat": 4,
  "nbformat_minor": 0,
  "metadata": {
    "colab": {
      "provenance": [],
      "authorship_tag": "ABX9TyN8UzEJmKVjV37uCiTsB6FD"
    },
    "kernelspec": {
      "name": "python3",
      "display_name": "Python 3"
    },
    "language_info": {
      "name": "python"
    }
  },
  "cells": [
    {
      "cell_type": "code",
      "execution_count": 1,
      "metadata": {
        "colab": {
          "base_uri": "https://localhost:8080/"
        },
        "id": "Y4Q-XkKAd0kg",
        "outputId": "cdf37926-924c-46ad-f051-a08a8607d580"
      },
      "outputs": [
        {
          "output_type": "stream",
          "name": "stdout",
          "text": [
            "enter a number20\n",
            "20\n",
            "10\n",
            "5\n",
            "16\n",
            "8\n",
            "4\n",
            "2\n"
          ]
        }
      ],
      "source": [
        "'hailstone series'\n",
        "no=int(input(\"enter a number\"))\n",
        "while no!=1:\n",
        "    print(no)\n",
        "    if no%2==0:\n",
        "      no=no//2\n",
        "    else:\n",
        "       no=no*3+1"
      ]
    },
    {
      "cell_type": "code",
      "source": [
        "'fibinocci series'\n",
        "n= int(input(\"enter a no\"))\n",
        "n1=0\n",
        "n2=1\n",
        "print(n1,n2,end=\" \")\n",
        "for i in range(2,n):\n",
        "  n3=n1+n2\n",
        "  n1=n2\n",
        "  n2=n3\n",
        "  print(n3,end=\" \")"
      ],
      "metadata": {
        "colab": {
          "base_uri": "https://localhost:8080/"
        },
        "id": "2glj2gyId-jp",
        "outputId": "10714edd-b0a2-41e4-bff4-7c85f1de5692"
      },
      "execution_count": 3,
      "outputs": [
        {
          "output_type": "stream",
          "name": "stdout",
          "text": [
            "enter a no8\n",
            "0 1 1 2 3 5 8 13 "
          ]
        }
      ]
    },
    {
      "cell_type": "code",
      "source": [
        "'no of days in a month'\n",
        "m=int(input(\"enter a month:\"))\n",
        "if(m==2):\n",
        "  print(\"28days/29days\")\n",
        "elif[m==1,3,5,7,8,10,12]:\n",
        "  print(\"31days\")\n",
        "elif[m==4,6,9,11]:\n",
        "  print(\"30days\")\n",
        "else:\n",
        "  print(\"invalid\")"
      ],
      "metadata": {
        "colab": {
          "base_uri": "https://localhost:8080/"
        },
        "id": "SqnNzDYweHro",
        "outputId": "bb0ae453-e082-4aca-b7b3-4a30994f8b7c"
      },
      "execution_count": 4,
      "outputs": [
        {
          "output_type": "stream",
          "name": "stdout",
          "text": [
            "enter a month:2\n",
            "28days/29days\n"
          ]
        }
      ]
    }
  ]
}